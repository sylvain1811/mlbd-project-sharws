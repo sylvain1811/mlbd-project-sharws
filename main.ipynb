{
 "cells": [
  {
   "cell_type": "markdown",
   "metadata": {},
   "source": [
    "# MLBD Project : Simplified Human Activity Recognition w/Smartphone\n",
    "\n",
    "1. Feature selection\n",
    "2. Model\n",
    "3. Prediction"
   ]
  },
  {
   "cell_type": "markdown",
   "metadata": {},
   "source": [
    "# Loading and preprocessing dataset"
   ]
  },
  {
   "cell_type": "code",
   "execution_count": 8,
   "metadata": {
    "scrolled": false
   },
   "outputs": [
    {
     "name": "stdout",
     "output_type": "stream",
     "text": [
      "X_train : (2418, 561)\n",
      "X_test: (1191, 561)\n",
      "X_train : (2418,)\n",
      "y_test: (1191,)\n",
      "5 0\n"
     ]
    },
    {
     "data": {
      "image/png": "[encoded data removed]",
      "text/plain": [
       "<Figure size 1080x720 with 1 Axes>"
      ]
     },
     "metadata": {
      "needs_background": "light"
     },
     "output_type": "display_data"
    }
   ],
   "source": [
    "%matplotlib inline\n",
    "\n",
    "import matplotlib\n",
    "import matplotlib.pyplot as plt\n",
    "import pandas as pd\n",
    "import numpy as np\n",
    "from sklearn import preprocessing\n",
    "from sklearn.model_selection import train_test_split\n",
    "from sklearn.metrics import accuracy_score, confusion_matrix\n",
    "from sklearn.model_selection import GridSearchCV\n",
    "\n",
    "data_train = pd.read_csv(\"dataset/train.csv\")\n",
    "# data_test = pd.read_csv(\"dataset/test.csv\")\n",
    "\n",
    "# Separate X and y\n",
    "X = data_train.values[:,2:]\n",
    "y_label = data_train.values[:,1]\n",
    "\n",
    "# Encode y\n",
    "le = preprocessing.LabelEncoder()\n",
    "y = le.fit_transform(y_label)\n",
    "\n",
    "# Split dataset to test and train\n",
    "X_train, X_test, y_train, y_test = train_test_split(X, y, test_size=0.33, random_state=42)\n",
    "\n",
    "print(f\"X_train : {X_train.shape}\")\n",
    "print(f\"X_test: {X_test.shape}\")\n",
    "print(f\"X_train : {y_train.shape}\")\n",
    "print(f\"y_test: {y_test.shape}\")\n",
    "\n",
    "def bins_labels(bins, **kwargs):\n",
    "    bin_w = (max(bins) - min(bins)) / (len(bins) - 1)\n",
    "    plt.xticks(np.arange(min(bins)+bin_w/2, max(bins), bin_w), bins, **kwargs)\n",
    "    plt.xlim(bins[0], bins[-1])\n",
    "\n",
    "print(y.max(), y.min())\n",
    "    \n",
    "plt.figure(figsize=(15,10))\n",
    "bins = range(7)\n",
    "plt.hist(y, bins=bins,rwidth=0.5)\n",
    "bins_labels(bins)\n",
    "plt.show()"
   ]
  },
  {
   "cell_type": "markdown",
   "metadata": {},
   "source": [
    "# Features selection"
   ]
  },
  {
   "cell_type": "markdown",
   "metadata": {},
   "source": [
    "Creation of a list that will contain all lists of features indexes resulting of different feature selection implemented"
   ]
  },
  {
   "cell_type": "code",
   "execution_count": 9,
   "metadata": {},
   "outputs": [],
   "source": [
    "list_indexes = []\n",
    "list_indexes.append([x for x in range(X_train.shape[1])])"
   ]
  },
  {
   "cell_type": "markdown",
   "metadata": {},
   "source": [
    "## VarianceThreshold feature selection\n",
    "\n",
    "We remove features with low variance. Here we keep only features with variance greater than 20%, so it will remove all features that have a high probability of beeing similar along the entries."
   ]
  },
  {
   "cell_type": "code",
   "execution_count": 10,
   "metadata": {
    "scrolled": true
   },
   "outputs": [
    {
     "name": "stdout",
     "output_type": "stream",
     "text": [
      "(2418, 59)\n"
     ]
    }
   ],
   "source": [
    "from sklearn.feature_selection import VarianceThreshold\n",
    "\n",
    "sel = VarianceThreshold(threshold=(0.2))\n",
    "X_train_selected = sel.fit_transform(X_train)\n",
    "indices = sel.get_support(indices=True)\n",
    "print(X_train_selected.shape)\n",
    "\n",
    "list_indexes.append(indices)"
   ]
  },
  {
   "cell_type": "markdown",
   "metadata": {},
   "source": [
    "## Univariate feature selection\n",
    "\n",
    "We only keep the K features with highest score. Score is computed using statistical method, here we use chi2.\n",
    "Chi2 need variables to be non-neative. As all variables are in the interval [-1,1] we can simply add 1 to all variables for this step."
   ]
  },
  {
   "cell_type": "code",
   "execution_count": 11,
   "metadata": {},
   "outputs": [
    {
     "name": "stdout",
     "output_type": "stream",
     "text": [
      "(2418, 150)\n"
     ]
    }
   ],
   "source": [
    "from sklearn.feature_selection import SelectKBest\n",
    "from sklearn.feature_selection import chi2\n",
    "\n",
    "kbest=SelectKBest(chi2, k=150)\n",
    "# All features are [-1,1] but this must be non-negative, so we add 1 to all features\n",
    "X_train_selected = kbest.fit_transform(X_train + 1, y_train)\n",
    "indices = kbest.get_support(indices=True)\n",
    "print(X_train_selected.shape)\n",
    "\n",
    "list_indexes.append(indices)"
   ]
  },
  {
   "cell_type": "markdown",
   "metadata": {},
   "source": [
    "# Training\n",
    "\n",
    "First, we delcare our results dictionnary. Then, for each classifier, we will iteratre through `list_indexes`, train and compute accuracy, and finally push the result inside the `results` dictionnary."
   ]
  },
  {
   "cell_type": "code",
   "execution_count": 12,
   "metadata": {},
   "outputs": [],
   "source": [
    "results = {}"
   ]
  },
  {
   "cell_type": "markdown",
   "metadata": {},
   "source": [
    "## KNN"
   ]
  },
  {
   "cell_type": "code",
   "execution_count": 13,
   "metadata": {
    "scrolled": false
   },
   "outputs": [
    {
     "name": "stdout",
     "output_type": "stream",
     "text": [
      "0.9521410579345088\n",
      "[[213   0   0   1   0   0]\n",
      " [  1 178  33   0   0   0]\n",
      " [  0  10 218   0   0   0]\n",
      " [  0   0   0 209   0   0]\n",
      " [  0   0   0   7 140   1]\n",
      " [  0   0   0   2   2 176]]\n",
      "{'n_neighbors': 7, 'p': 1}\n",
      "0.9026028547439127\n",
      "[[213   0   0   0   0   1]\n",
      " [  1 168  43   0   0   0]\n",
      " [  0  23 205   0   0   0]\n",
      " [  0   0   0 199   5   5]\n",
      " [  0   0   0  10 132   6]\n",
      " [  0   0   0  14   8 158]]\n",
      "{'n_neighbors': 5, 'p': 1}\n",
      "0.9252728799328296\n",
      "[[212   1   0   0   0   1]\n",
      " [  1 161  50   0   0   0]\n",
      " [  0  21 207   0   0   0]\n",
      " [  0   0   0 209   0   0]\n",
      " [  0   0   0   6 138   4]\n",
      " [  0   0   0   4   1 175]]\n",
      "{'n_neighbors': 3, 'p': 1}\n"
     ]
    }
   ],
   "source": [
    "from sklearn.neighbors import KNeighborsClassifier\n",
    "\n",
    "knn = KNeighborsClassifier(n_jobs=8)\n",
    "params = {\"n_neighbors\": [3,5,7], \"p\": [1,2]}\n",
    "\n",
    "\n",
    "results_knn = {}\n",
    "\n",
    "for i, indexes in enumerate(list_indexes):\n",
    "    clf = GridSearchCV(knn, params, cv=5)\n",
    "\n",
    "    clf.fit(X_train[:,indexes], y_train)\n",
    "\n",
    "    y_predicted = clf.predict(X_test[:,indexes])\n",
    "\n",
    "    score = accuracy_score(y_test, y_predicted)\n",
    "    cm = confusion_matrix(y_test, y_predicted)\n",
    "    print(score)\n",
    "    print(cm)\n",
    "\n",
    "    print(clf.best_params_)\n",
    "    \n",
    "    results_knn[i]={\"accuracy\":score,\"conf_mat\":cm}\n",
    "\n",
    "results[\"knn\"] = results_knn"
   ]
  },
  {
   "cell_type": "markdown",
   "metadata": {},
   "source": [
    "## MLP"
   ]
  },
  {
   "cell_type": "code",
   "execution_count": 29,
   "metadata": {
    "scrolled": false
   },
   "outputs": [
    {
     "name": "stderr",
     "output_type": "stream",
     "text": [
      "/home/sylvain/.local/share/virtualenvs/mlbd-project-sharws-SYSQ6oUL/lib/python3.7/site-packages/sklearn/model_selection/_search.py:813: DeprecationWarning: The default of the `iid` parameter will change from True to False in version 0.22 and will be removed in 0.24. This will change numeric results when test-set sizes are unequal.\n",
      "  DeprecationWarning)\n"
     ]
    },
    {
     "name": "stdout",
     "output_type": "stream",
     "text": [
      "0.9286314021830394\n",
      "[[211   2   0   1   0   0]\n",
      " [  0 186  26   0   0   0]\n",
      " [  0  17 211   0   0   0]\n",
      " [  0   0   0 195   1  13]\n",
      " [  0   0   0   1 136  11]\n",
      " [  0   0   0   6   7 167]]\n",
      "{'activation': 'tanh', 'alpha': 0.001, 'hidden_layer_sizes': (7, 14), 'max_iter': 300, 'solver': 'lbfgs'}\n"
     ]
    },
    {
     "name": "stderr",
     "output_type": "stream",
     "text": [
      "/home/sylvain/.local/share/virtualenvs/mlbd-project-sharws-SYSQ6oUL/lib/python3.7/site-packages/sklearn/model_selection/_search.py:813: DeprecationWarning: The default of the `iid` parameter will change from True to False in version 0.22 and will be removed in 0.24. This will change numeric results when test-set sizes are unequal.\n",
      "  DeprecationWarning)\n"
     ]
    },
    {
     "name": "stdout",
     "output_type": "stream",
     "text": [
      "0.9269521410579346\n",
      "[[213   1   0   0   0   0]\n",
      " [  0 185  27   0   0   0]\n",
      " [  0  26 202   0   0   0]\n",
      " [  0   0   0 200   2   7]\n",
      " [  0   0   0   7 137   4]\n",
      " [  0   0   0   8   5 167]]\n",
      "{'activation': 'relu', 'alpha': 0.0001, 'hidden_layer_sizes': (7, 14), 'max_iter': 300, 'solver': 'lbfgs'}\n"
     ]
    },
    {
     "name": "stderr",
     "output_type": "stream",
     "text": [
      "/home/sylvain/.local/share/virtualenvs/mlbd-project-sharws-SYSQ6oUL/lib/python3.7/site-packages/sklearn/model_selection/_search.py:813: DeprecationWarning: The default of the `iid` parameter will change from True to False in version 0.22 and will be removed in 0.24. This will change numeric results when test-set sizes are unequal.\n",
      "  DeprecationWarning)\n"
     ]
    },
    {
     "name": "stdout",
     "output_type": "stream",
     "text": [
      "0.9227539882451721\n",
      "[[213   0   0   0   1   0]\n",
      " [  0 187  25   0   0   0]\n",
      " [  0  37 191   0   0   0]\n",
      " [  0   0   0 205   1   3]\n",
      " [  0   0   0   3 133  12]\n",
      " [  0   0   0   7   3 170]]\n",
      "{'activation': 'tanh', 'alpha': 0.001, 'hidden_layer_sizes': (7, 14), 'max_iter': 400, 'solver': 'lbfgs'}\n"
     ]
    }
   ],
   "source": [
    "from sklearn.neural_network import MLPClassifier\n",
    "\n",
    "mlpc = MLPClassifier()\n",
    "params = {\"solver\":[\"lbfgs\"], \"alpha\":[1e-3, 1e-4, 1e-6], \n",
    "          \"hidden_layer_sizes\":[(5,10), (7,14), (3,6)], \"max_iter\":[250,300,400], \n",
    "          \"activation\": [\"tanh\", \"relu\", \"logistic\"]}\n",
    "\n",
    "results_mlp={}\n",
    "\n",
    "for i, indexes in enumerate(list_indexes):\n",
    "    clf = GridSearchCV(mlpc, params, cv=5)\n",
    "\n",
    "    clf.fit(X_train[:,indexes], y_train)\n",
    "\n",
    "    y_predicted = clf.predict(X_test[:,indexes])\n",
    "\n",
    "    score = accuracy_score(y_test, y_predicted)\n",
    "    cm = confusion_matrix(y_test, y_predicted)\n",
    "    print(score)\n",
    "    print(cm)\n",
    "\n",
    "    print(clf.best_params_)\n",
    "    \n",
    "    results_mlp[i]={\"accuracy\":score,\"conf_mat\":cm}\n",
    "\n",
    "results[\"mlp\"]=results_mlp"
   ]
  },
  {
   "cell_type": "markdown",
   "metadata": {},
   "source": [
    "## SVM"
   ]
  },
  {
   "cell_type": "code",
   "execution_count": 19,
   "metadata": {},
   "outputs": [
    {
     "name": "stdout",
     "output_type": "stream",
     "text": [
      "0.9764903442485307\n",
      "[[214   0   0   0   0   0]\n",
      " [  1 199  12   0   0   0]\n",
      " [  0  12 216   0   0   0]\n",
      " [  0   0   0 208   0   1]\n",
      " [  0   0   0   0 147   1]\n",
      " [  0   0   0   1   0 179]]\n",
      "{'C': 200.0, 'decision_function_shape': 'ovo', 'kernel': 'rbf'}\n",
      "0.943744752308984\n",
      "[[214   0   0   0   0   0]\n",
      " [  1 189  22   0   0   0]\n",
      " [  0  20 208   0   0   0]\n",
      " [  0   0   0 201   2   6]\n",
      " [  0   0   0   2 140   6]\n",
      " [  0   0   0   7   1 172]]\n",
      "{'C': 200.0, 'decision_function_shape': 'ovo', 'kernel': 'rbf'}\n",
      "0.964735516372796\n",
      "[[213   0   0   0   0   1]\n",
      " [  0 198  14   0   0   0]\n",
      " [  0  22 206   0   0   0]\n",
      " [  0   0   0 208   1   0]\n",
      " [  0   0   0   1 146   1]\n",
      " [  0   0   0   1   1 178]]\n",
      "{'C': 1000.0, 'decision_function_shape': 'ovo', 'kernel': 'rbf'}\n"
     ]
    }
   ],
   "source": [
    "from sklearn import svm\n",
    "\n",
    "params = {\"C\":[0.1, 1.0, 10.0, 100.0, 200.0, 1000.0], \n",
    "          \"kernel\":['linear', 'rbf', 'sigmoid'], 'decision_function_shape':['ovo','ovr']}\n",
    "\n",
    "svc = svm.SVC(gamma='scale')\n",
    "\n",
    "results_svm={}\n",
    "\n",
    "for i, indexes in enumerate(list_indexes):\n",
    "    clf = GridSearchCV(svc, params, cv=5)\n",
    "\n",
    "    clf.fit(X_train[:,indexes], y_train)\n",
    "\n",
    "    y_predicted = clf.predict(X_test[:,indexes])\n",
    "\n",
    "    score = accuracy_score(y_test, y_predicted)\n",
    "    cm = confusion_matrix(y_test, y_predicted)\n",
    "    print(score)\n",
    "    print(cm)\n",
    "\n",
    "    print(clf.best_params_)\n",
    "    \n",
    "    results_svm[i]={\"accuracy\":score,\"conf_mat\":cm}\n",
    "\n",
    "results[\"svm\"]=results_svm"
   ]
  },
  {
   "cell_type": "markdown",
   "metadata": {},
   "source": [
    "# KMeans"
   ]
  },
  {
   "cell_type": "code",
   "execution_count": 31,
   "metadata": {
    "scrolled": false
   },
   "outputs": [
    {
     "data": {
      "image/png": "[encoded data removed]",
      "text/plain": [
       "<Figure size 1440x1296 with 9 Axes>"
      ]
     },
     "metadata": {
      "needs_background": "light"
     },
     "output_type": "display_data"
    }
   ],
   "source": [
    "from sklearn.cluster import KMeans\n",
    "\n",
    "nb_label = 6\n",
    "nb_clusters = [2,3,6]\n",
    "\n",
    "plt.figure(figsize=(20,18))\n",
    "\n",
    "for i, indexes in enumerate(list_indexes):\n",
    "    \n",
    "    for k, nb_cluster in enumerate(nb_clusters):\n",
    "    \n",
    "        kmeans = KMeans(n_clusters=nb_cluster, n_jobs=4)\n",
    "        kmeans.fit(X_train[:,indexes])\n",
    "\n",
    "        fig = plt.subplot(len(list_indexes),len(nb_clusters),i*len(nb_clusters)+k+1)\n",
    "        \n",
    "        index = np.arange(nb_label)\n",
    "        bar_width = 0.1\n",
    "        opacity = 0.8\n",
    "\n",
    "        for j in range(0,nb_cluster):\n",
    "            index_cluster=[index for index,value in enumerate(kmeans.labels_) if value == j]\n",
    "\n",
    "            counts = np.bincount(y_train[index_cluster],minlength=nb_label)\n",
    "            # print(counts)\n",
    "            bar = plt.bar(index + bar_width * j, counts, bar_width, alpha=opacity, label='Cluster'+str(j))\n",
    "\n",
    "\n",
    "        plt.legend().set_visible(False)\n",
    "        plt.ylabel('Number')\n",
    "        plt.title(str(nb_cluster)+' cluster with feature selection '+str(i))\n",
    "        plt.xticks(index + bar_width, [le.inverse_transform([x])[0] for x in range(0,nb_label)], rotation=15)\n",
    "\n",
    "        \n",
    "plt.show()\n",
    "\n"
   ]
  },
  {
   "cell_type": "markdown",
   "metadata": {},
   "source": [
    "# Results"
   ]
  },
  {
   "cell_type": "code",
   "execution_count": 30,
   "metadata": {
    "scrolled": false
   },
   "outputs": [
    {
     "name": "stdout",
     "output_type": "stream",
     "text": [
      "[[0.9521410579345088, 0.9026028547439127, 0.9252728799328296], [0.9286314021830394, 0.9269521410579346, 0.9227539882451721], [0.9764903442485307, 0.943744752308984, 0.964735516372796]]\n"
     ]
    },
    {
     "data": {
      "image/png": "[encoded data removed]",
      "text/plain": [
       "<Figure size 288x288 with 1 Axes>"
      ]
     },
     "metadata": {
      "needs_background": "light"
     },
     "output_type": "display_data"
    }
   ],
   "source": [
    "# Just for test\n",
    "# results_test={}\n",
    "# results_test[0]={\"accuracy\":0.2,\"conf_mat\":results[\"svm\"][0][\"conf_mat\"]}\n",
    "# results_test[1]={\"accuracy\":0.2,\"conf_mat\":results[\"svm\"][0][\"conf_mat\"]}\n",
    "# results_test[2]={\"accuracy\":0.2,\"conf_mat\":results[\"svm\"][0][\"conf_mat\"]}\n",
    "# results[\"mlp\"]=results_test\n",
    "# Just for test\n",
    "\n",
    "models_names = list(results.keys())\n",
    "\n",
    "accuracies = [[acc[\"accuracy\"] for acc in list(model.values())] for model in results.values()]\n",
    "print(accuracies)\n",
    "\n",
    "plt.matshow(accuracies)\n",
    "plt.title(\"Accuracy\")\n",
    "plt.yticks(np.arange(len(models_names)), models_names)\n",
    "plt.ylabel(\"Model\")\n",
    "plt.xticks(np.arange(len(accuracies[0])), np.arange(len(accuracies[0])))\n",
    "plt.xlabel(\"Index\")\n",
    "\n",
    "for (i, j), z in np.ndenumerate(accuracies):\n",
    "    plt.text(j, i, '{:0.2f}'.format(z),bbox=dict(boxstyle='round', facecolor='white', edgecolor='0.3'))\n",
    "\n",
    "plt.show()"
   ]
  }
 ],
 "metadata": {
  "kernelspec": {
   "display_name": "Python 3",
   "language": "python",
   "name": "python3"
  },
  "language_info": {
   "codemirror_mode": {
    "name": "ipython",
    "version": 3
   },
   "file_extension": ".py",
   "mimetype": "text/x-python",
   "name": "python",
   "nbconvert_exporter": "python",
   "pygments_lexer": "ipython3",
   "version": "3.7.3"
  }
 },
 "nbformat": 4,
 "nbformat_minor": 2
}
