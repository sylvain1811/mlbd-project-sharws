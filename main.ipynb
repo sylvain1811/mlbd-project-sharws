{
 "cells": [
  {
   "cell_type": "markdown",
   "metadata": {},
   "source": [
    "# MLBD Project : Simplified Human Activity Recognition w/Smartphone\n",
    "\n",
    "1. Feature selection\n",
    "2. Model\n",
    "3. Prediction"
   ]
  },
  {
   "cell_type": "code",
   "execution_count": 2,
   "metadata": {
    "scrolled": false
   },
   "outputs": [
    {
     "name": "stdout",
     "output_type": "stream",
     "text": [
      "X_train : (2418, 561)\n",
      "X_test: (1191, 561)\n",
      "X_train : (2418,)\n",
      "y_test: (1191,)\n",
      "5 0\n"
     ]
    },
    {
     "data": {
      "image/png": "[encoded data removed]",
      "text/plain": [
       "<Figure size 1080x720 with 1 Axes>"
      ]
     },
     "metadata": {
      "needs_background": "light"
     },
     "output_type": "display_data"
    }
   ],
   "source": [
    "%matplotlib inline\n",
    "\n",
    "import matplotlib\n",
    "import matplotlib.pyplot as plt\n",
    "import pandas as pd\n",
    "import numpy as np\n",
    "from sklearn import preprocessing\n",
    "from sklearn.model_selection import train_test_split\n",
    "\n",
    "data_train = pd.read_csv(\"dataset/train.csv\")\n",
    "# data_test = pd.read_csv(\"dataset/test.csv\")\n",
    "\n",
    "X = data_train.values[:,2:]\n",
    "y_label = data_train.values[:,1]\n",
    "\n",
    "le = preprocessing.LabelEncoder()\n",
    "y = le.fit_transform(y_label)\n",
    "\n",
    "X_train, X_test, y_train, y_test = train_test_split(X, y, test_size=0.33, random_state=42)\n",
    "\n",
    "print(f\"X_train : {X_train.shape}\")\n",
    "print(f\"X_test: {X_test.shape}\")\n",
    "print(f\"X_train : {y_train.shape}\")\n",
    "print(f\"y_test: {y_test.shape}\")\n",
    "\n",
    "def bins_labels(bins, **kwargs):\n",
    "    bin_w = (max(bins) - min(bins)) / (len(bins) - 1)\n",
    "    plt.xticks(np.arange(min(bins)+bin_w/2, max(bins), bin_w), bins, **kwargs)\n",
    "    plt.xlim(bins[0], bins[-1])\n",
    "\n",
    "print(y.max(), y.min())\n",
    "    \n",
    "plt.figure(figsize=(15,10))\n",
    "bins = range(7)\n",
    "plt.hist(y, bins=bins,rwidth=0.5)\n",
    "bins_labels(bins)\n",
    "plt.show()"
   ]
  },
  {
   "cell_type": "markdown",
   "metadata": {},
   "source": [
    "## Feature selection\n",
    "\n"
   ]
  },
  {
   "cell_type": "markdown",
   "metadata": {},
   "source": [
    "### VarianceThreshold\n",
    "\n",
    "On supprime les features avec une variance faible. Ici on garde que les features avec une variance supérieure à 80%"
   ]
  },
  {
   "cell_type": "code",
   "execution_count": 3,
   "metadata": {
    "scrolled": true
   },
   "outputs": [
    {
     "name": "stdout",
     "output_type": "stream",
     "text": [
      "(2418, 94)\n"
     ]
    }
   ],
   "source": [
    "from sklearn.feature_selection import VarianceThreshold\n",
    "\n",
    "sel = VarianceThreshold(threshold=(.8 * (1 - .8)))\n",
    "X_train_selected = sel.fit_transform(X_train)\n",
    "indices = sel.get_support(indices=True)\n",
    "print(X_train_selected.shape)"
   ]
  },
  {
   "cell_type": "markdown",
   "metadata": {},
   "source": [
    "## Training"
   ]
  },
  {
   "cell_type": "code",
   "execution_count": 4,
   "metadata": {
    "scrolled": true
   },
   "outputs": [
    {
     "name": "stdout",
     "output_type": "stream",
     "text": [
      "0.9160369437447523\n",
      "[[214   0   0   0   0   0]\n",
      " [  1 184  27   0   0   0]\n",
      " [  0  24 204   0   0   0]\n",
      " [  0   0   0 197   0  12]\n",
      " [  0   0   0   0 134  14]\n",
      " [  0   0   1  14   7 158]]\n"
     ]
    }
   ],
   "source": [
    "from sklearn.neural_network import MLPClassifier\n",
    "from sklearn.metrics import accuracy_score, confusion_matrix\n",
    "from sklearn.model_selection import GridSearchCV\n",
    "\n",
    "mlpc = MLPClassifier(solver='lbfgs', alpha=1e-5, hidden_layer_sizes=(5, 10), random_state=1)\n",
    "params = {\"solver\":[\"lbfgs\"], \"alpha\":[1e-5, 1e-4,1e-3,1e-6], \"hidden_layer_sizes\":[(5,10)], \"max_iter\":[200,250,300]}\n",
    "clf = GridSearchCV(mlpc, params, cv=5)\n",
    "\n",
    "clf.fit(X_train_selected, y_train)\n",
    "# clf.fit(X_train_, y_train)\n",
    "\n",
    "y_predicted = clf.predict(X_test[:,indices])\n",
    "# y_predicted = clf.predict(X_test)\n",
    "score = accuracy_score(y_test, y_predicted)\n",
    "cm = confusion_matrix(y_test, y_predicted)\n",
    "print(score)\n",
    "print(cm)"
   ]
  }
 ],
 "metadata": {
  "kernelspec": {
   "display_name": "Python 3",
   "language": "python",
   "name": "python3"
  },
  "language_info": {
   "codemirror_mode": {
    "name": "ipython",
    "version": 3
   },
   "file_extension": ".py",
   "mimetype": "text/x-python",
   "name": "python",
   "nbconvert_exporter": "python",
   "pygments_lexer": "ipython3",
   "version": "3.7.3"
  }
 },
 "nbformat": 4,
 "nbformat_minor": 2
}
